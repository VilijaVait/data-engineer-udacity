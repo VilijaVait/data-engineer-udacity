{
 "cells": [
  {
   "cell_type": "markdown",
   "metadata": {},
   "source": [
    "### Test notebook -- Sparkify\n",
    "\n",
    "The queries below allow for testing of final star schema tables loaded using `create_tables.py`, `etl.py` and `sql_queries.py`, with connection parameters specified in `dwh.cfg`. \n",
    "The final star schema is loaded in Redshift cluster, and aims to address the requirements of **Sparkify** to analyse their user behaviour."
   ]
  },
  {
   "cell_type": "code",
   "execution_count": null,
   "metadata": {},
   "outputs": [],
   "source": [
    "from time import time\n",
    "import configparser\n",
    "import psycopg2"
   ]
  },
  {
   "cell_type": "code",
   "execution_count": null,
   "metadata": {},
   "outputs": [],
   "source": [
    "#Read connection parameters\n",
    "config = configparser.ConfigParser()\n",
    "config.read('dwh.cfg')\n",
    "\n",
    "DB_NAME = config.get(\"CLUSTER\",\"DB_NAME\")\n",
    "DB_USER = config.get(\"CLUSTER\",\"DB_USER\")\n",
    "DB_PASSWORD = config.get(\"CLUSTER\",\"DB_PASSWORD\")\n",
    "DB_PORT = config.get(\"CLUSTER\",\"DB_PORT\")\n",
    "HOST = config.get(\"CLUSTER\",\"HOST\")"
   ]
  },
  {
   "cell_type": "code",
   "execution_count": null,
   "metadata": {},
   "outputs": [],
   "source": [
    "%load_ext sql"
   ]
  },
  {
   "cell_type": "code",
   "execution_count": null,
   "metadata": {},
   "outputs": [],
   "source": [
    "#Create connection\n",
    "conn_string=\"postgresql://{}:{}@{}:{}/{}\".format(DB_USER, DB_PASSWORD, HOST, DB_PORT, DB_NAME)\n",
    "print(conn_string)\n",
    "%sql $conn_string"
   ]
  },
  {
   "cell_type": "markdown",
   "metadata": {},
   "source": [
    "### Call each table row count - `songs`, `users`, `songplays`, `artists`, `time`"
   ]
  },
  {
   "cell_type": "code",
   "execution_count": null,
   "metadata": {},
   "outputs": [],
   "source": [
    "%%time\n",
    "%%sql\n",
    "SELECT COUNT(*) FROM songs;"
   ]
  },
  {
   "cell_type": "code",
   "execution_count": null,
   "metadata": {},
   "outputs": [],
   "source": [
    "%%time\n",
    "%%sql\n",
    "SELECT COUNT(*) FROM users;"
   ]
  },
  {
   "cell_type": "code",
   "execution_count": null,
   "metadata": {},
   "outputs": [],
   "source": [
    "%%time\n",
    "%%sql\n",
    "SELECT COUNT(*) FROM songplays;"
   ]
  },
  {
   "cell_type": "code",
   "execution_count": null,
   "metadata": {},
   "outputs": [],
   "source": [
    "%%time\n",
    "%%sql\n",
    "SELECT COUNT(*) FROM artists;"
   ]
  },
  {
   "cell_type": "code",
   "execution_count": null,
   "metadata": {},
   "outputs": [],
   "source": [
    "%%time\n",
    "%%sql\n",
    "SELECT COUNT(*) FROM time;"
   ]
  },
  {
   "cell_type": "markdown",
   "metadata": {},
   "source": [
    "### Call first five rows in each table"
   ]
  },
  {
   "cell_type": "code",
   "execution_count": null,
   "metadata": {},
   "outputs": [],
   "source": [
    "%%time\n",
    "%%sql\n",
    "SELECT * FROM users LIMIT 5; "
   ]
  },
  {
   "cell_type": "code",
   "execution_count": null,
   "metadata": {},
   "outputs": [],
   "source": [
    "%%time\n",
    "%%sql\n",
    "SELECT * FROM songs LIMIT 5;"
   ]
  },
  {
   "cell_type": "code",
   "execution_count": null,
   "metadata": {},
   "outputs": [],
   "source": [
    "%%time\n",
    "%%sql\n",
    "SELECT * FROM artists LIMIT 5;"
   ]
  },
  {
   "cell_type": "code",
   "execution_count": null,
   "metadata": {},
   "outputs": [],
   "source": [
    "%%time\n",
    "%%sql\n",
    "SELECT * FROM songplays LIMIT 5;"
   ]
  },
  {
   "cell_type": "code",
   "execution_count": null,
   "metadata": {},
   "outputs": [],
   "source": [
    "%%time\n",
    "%%sql\n",
    "SELECT * FROM time LIMIT 5;"
   ]
  },
  {
   "cell_type": "markdown",
   "metadata": {},
   "source": [
    "### Show week, artist name and their song play count for each of the weeks sorted by most played artists (in a given week), provided that total songs played by the artist exceeds 3 (in a given week)"
   ]
  },
  {
   "cell_type": "code",
   "execution_count": null,
   "metadata": {},
   "outputs": [],
   "source": [
    "%%time\n",
    "%%sql\n",
    "SELECT t.week, a.name, COUNT(sp.songplay_id)\n",
    "FROM songplays sp\n",
    "JOIN time t ON t.start_time = sp.start_time\n",
    "JOIN artists a ON a.artist_id = sp.artist_id \n",
    "GROUP BY 1,2\n",
    "HAVING COUNT(songplay_id) > 3\n",
    "ORDER BY 1, COUNT(songplay_id) DESC;"
   ]
  },
  {
   "cell_type": "markdown",
   "metadata": {},
   "source": [
    "### Show song title, artist and song count for the most played songs in the entire observation period"
   ]
  },
  {
   "cell_type": "code",
   "execution_count": null,
   "metadata": {},
   "outputs": [],
   "source": [
    "%%time\n",
    "%%sql\n",
    "SELECT s.title, a.name, COUNT(sp.songplay_id)\n",
    "FROM songplays sp\n",
    "JOIN songs s ON sp.song_id = s.song_id\n",
    "JOIN artists a ON sp.artist_id = a.artist_id\n",
    "GROUP BY s.title, a.name\n",
    "HAVING COUNT(sp.songplay_id) > 5\n",
    "ORDER BY 3 DESC;"
   ]
  },
  {
   "cell_type": "markdown",
   "metadata": {},
   "source": [
    "### Show user_id, sum of songs played, first and last name and gender for 5 users with most songs played"
   ]
  },
  {
   "cell_type": "code",
   "execution_count": null,
   "metadata": {},
   "outputs": [],
   "source": [
    "%%time\n",
    "%%sql\n",
    "\n",
    "WITH vip_user AS (\n",
    "                 SELECT user_id, COUNT(songplay_id) play_count\n",
    "                 FROM songplays\n",
    "                 GROUP BY user_id\n",
    "                 ORDER BY 2 DESC\n",
    "                 LIMIT 5)\n",
    "\n",
    "SELECT DISTINCT vipu.user_id, vipu.play_count, u.first_name, u.last_name, u.gender\n",
    "FROM vip_user vipu\n",
    "JOIN users u\n",
    "     ON u.user_id = vipu.user_id\n",
    "ORDER BY 2 DESC;"
   ]
  },
  {
   "cell_type": "markdown",
   "metadata": {},
   "source": [
    "### For 5 users with most songs played, show user_id, level, total songs played for a given level and user, total duration played for a given level and user, first and last name and gender of the user"
   ]
  },
  {
   "cell_type": "code",
   "execution_count": null,
   "metadata": {},
   "outputs": [],
   "source": [
    "%%time\n",
    "%%sql\n",
    "WITH vip_user AS (\n",
    "                 SELECT user_id, COUNT(songplay_id) play_count\n",
    "                 FROM songplays\n",
    "                 GROUP BY user_id\n",
    "                 ORDER BY 2 DESC\n",
    "                 LIMIT 5),\n",
    "\n",
    "     vip_songplay_count AS (\n",
    "                 SELECT user_id, \n",
    "                        level, \n",
    "                        COUNT(songplay_id) play_count_by_level,\n",
    "                        SUM(duration) total_duration_by_level\n",
    "                 FROM songplays\n",
    "                 JOIN songs\n",
    "                      ON songplays.song_id = songs.song_id\n",
    "                 WHERE user_id IN (\n",
    "                                  SELECT user_id\n",
    "                                  FROM vip_user)\n",
    "                 GROUP BY 1,2\n",
    "                 ORDER BY 1,3 DESC),\n",
    "\n",
    "     vip_full_list AS(\n",
    "                SELECT DISTINCT vip.user_id, \n",
    "                                vip.level, \n",
    "                                vip.play_count_by_level,\n",
    "                                vip.total_duration_by_level,\n",
    "                                u.first_name, \n",
    "                                u.last_name, \n",
    "                                u.gender\n",
    "                FROM vip_songplay_count vip\n",
    "                JOIN users u\n",
    "                    ON vip.user_id = u.user_id\n",
    "                ORDER BY 1, 3 DESC)\n",
    "\n",
    "SELECT user_id, \n",
    "       level, \n",
    "       play_count_by_level,\n",
    "       SUM(play_count_by_level) OVER (PARTITION BY user_id) AS play_count_by_user,\n",
    "       ROUND(total_duration_by_level,2) AS total_duration_by_level_,\n",
    "       ROUND(SUM(total_duration_by_level) OVER (PARTITION BY user_id),2) AS total_duration_by_user,\n",
    "       first_name,\n",
    "       last_name,\n",
    "       gender\n",
    "FROM vip_full_list\n",
    "ORDER BY play_count_by_user DESC, play_count_by_level DESC;\n"
   ]
  },
  {
   "cell_type": "code",
   "execution_count": null,
   "metadata": {},
   "outputs": [],
   "source": []
  }
 ],
 "metadata": {
  "kernelspec": {
   "display_name": "Python 3",
   "language": "python",
   "name": "python3"
  },
  "language_info": {
   "codemirror_mode": {
    "name": "ipython",
    "version": 3
   },
   "file_extension": ".py",
   "mimetype": "text/x-python",
   "name": "python",
   "nbconvert_exporter": "python",
   "pygments_lexer": "ipython3",
   "version": "3.6.4"
  }
 },
 "nbformat": 4,
 "nbformat_minor": 2
}
